{
 "cells": [
  {
   "cell_type": "code",
   "execution_count": 1,
   "metadata": {},
   "outputs": [
    {
     "name": "stdout",
     "output_type": "stream",
     "text": [
      "+--------------------+-----+\n",
      "|            features|class|\n",
      "+--------------------+-----+\n",
      "|[5.0,1.0,1.0,1.0,...|    2|\n",
      "|[5.0,4.0,4.0,5.0,...|    2|\n",
      "|[3.0,1.0,1.0,1.0,...|    2|\n",
      "|[6.0,8.0,8.0,1.0,...|    2|\n",
      "|[4.0,1.0,1.0,3.0,...|    2|\n",
      "+--------------------+-----+\n",
      "only showing top 5 rows\n",
      "\n",
      "Test Error = 0.0514019\n",
      "randon forest 0.9485981308411215\n",
      "Test Error = 0.0794393\n",
      "decision tree: 0.9205607476635514\n",
      "Test Error = 0.0560748\n",
      "logistic regression: 0.9439252336448598\n",
      "XGBoost accuracy: 0.951048951048951\n"
     ]
    },
    {
     "data": {
      "image/png": "[encoded data removed]",
      "text/plain": [
       "<Figure size 432x288 with 1 Axes>"
      ]
     },
     "metadata": {
      "needs_background": "light"
     },
     "output_type": "display_data"
    },
    {
     "data": {
      "text/plain": [
       "<Figure size 432x288 with 0 Axes>"
      ]
     },
     "metadata": {},
     "output_type": "display_data"
    }
   ],
   "source": [
    "import pyspark\n",
    "from pyspark.sql import SparkSession\n",
    "from pyspark.ml.evaluation import MulticlassClassificationEvaluator\n",
    "from pyspark.mllib.util import MLUtils\n",
    "from pyspark import SparkContext, SparkConf\n",
    "from pyspark.ml.classification import LogisticRegression\n",
    "from pyspark.ml.classification import DecisionTreeClassifier\n",
    "from pyspark.mllib.tree import DecisionTree, DecisionTreeModel\n",
    "from pyspark.mllib.util import MLUtils\n",
    "from pyspark import SparkContext, SparkConf\n",
    "import numpy as np\n",
    "from pyspark.ml.regression import DecisionTreeRegressor\n",
    "from pyspark.ml.classification import RandomForestClassifier\n",
    "from pyspark.ml.classification import LogisticRegression\n",
    "from sklearn.model_selection import train_test_split\n",
    "\n",
    "from sklearn.datasets import load_breast_cancer\n",
    "cancer = load_breast_cancer()\n",
    "x_train, x_test, y_train, y_test = train_test_split(cancer.data, cancer.target, stratify=cancer.target, random_state=42)\n",
    "\n",
    "\n",
    "spark = SparkSession.builder.appName('cruise').getOrCreate()\n",
    "\n",
    "# Load and parse the data file into an RDD of LabeledPoint.\n",
    "data = spark.read.csv('breast-cancer-wisconsin.csv', header = True, inferSchema = True)\n",
    "\n",
    "\n",
    "from pyspark.ml.feature import VectorAssembler\n",
    "\n",
    "assembler=VectorAssembler(inputCols=['clump_thickness','uniform_cell_size','uniform_cell_shape','marginal_adhesion','single_epi_cell_size','bland_chromation','normal_nucleoli','mitoses'],outputCol='features')\n",
    "output=assembler.transform(data)\n",
    "output.select('features','class').show(5)\n",
    "#output as below\n",
    "final_data=output.select('features','class')\n",
    "#splitting data into train and test\n",
    "train_data,test_data=final_data.randomSplit([0.7,0.3])\n",
    "#train_data.describe().show()\n",
    "\n",
    "rf = RandomForestClassifier(labelCol=\"class\", featuresCol=\"features\")\n",
    "# Fit the model\n",
    "rfModel = rf.fit(train_data)\n",
    "\n",
    "dt = DecisionTreeClassifier(labelCol=\"class\", featuresCol=\"features\")\n",
    "dtmodel = dt.fit(train_data)\n",
    "\n",
    "lr = LogisticRegression(labelCol=\"class\", featuresCol=\"features\")\n",
    "\n",
    "# Fit the model\n",
    "lrModel = lr.fit(train_data)\n",
    "\n",
    "# Make predictions.\n",
    "predictions_rf = rfModel.transform(test_data)\n",
    "predictions_dt = dtmodel.transform(test_data)\n",
    "predictions_lr = lrModel.transform(test_data)\n",
    "\n",
    "# Select example rows to display.\n",
    "#predictions_rf.select(\"prediction\", \"class\", \"features\").show(5)\n",
    "#predictions_dt.select(\"prediction\", \"class\", \"features\").show(5)\n",
    "#predictions_lr.select(\"prediction\", \"class\", \"features\").show(5)\n",
    "\n",
    "# Select (prediction, true label) and compute test error\n",
    "evaluator_rf = MulticlassClassificationEvaluator(\n",
    "    labelCol=\"class\", predictionCol=\"prediction\", metricName=\"accuracy\")\n",
    "accuracy_rf = evaluator_rf.evaluate(predictions_rf)\n",
    "print (\"Test Error = %g\" % (1.0 - accuracy_rf))\n",
    "print(\"randon forest\" , accuracy_rf)\n",
    "\n",
    "evaluator_dt = MulticlassClassificationEvaluator(\n",
    "    labelCol=\"class\", predictionCol=\"prediction\", metricName=\"accuracy\")\n",
    "accuracy_dt = evaluator_dt.evaluate(predictions_dt)\n",
    "print (\"Test Error = %g\" % (1.0 - accuracy_dt))\n",
    "print(\"decision tree:\" , accuracy_dt)\n",
    "\n",
    "\n",
    "evaluator_lr = MulticlassClassificationEvaluator(\n",
    "    labelCol=\"class\", predictionCol=\"prediction\", metricName=\"accuracy\")\n",
    "accuracy_lr = evaluator_lr.evaluate(predictions_lr)\n",
    "print (\"Test Error = %g\" % (1.0 - accuracy_lr))\n",
    "print(\"logistic regression:\" , accuracy_lr)\n",
    "\n",
    "import matplotlib.pyplot as plt\n",
    "\n",
    "import xgboost as xgb\n",
    "model=xgb.XGBClassifier()\n",
    "model.fit(x_train, y_train)\n",
    "accuracy_xgb = model.score(x_test, y_test)\n",
    "print('XGBoost accuracy:',accuracy_xgb)\n",
    "%matplotlib inline\n",
    "fig = plt.figure()\n",
    "ax = fig.add_axes([2,2,2,0.5])\n",
    "models = ['random_forest', 'decision_tree', 'logistic_regression', 'Xg boost']\n",
    "accuracy = [accuracy_rf, accuracy_dt, accuracy_lr, accuracy_xgb]\n",
    "ax.barh(models,accuracy)\n",
    "ax.invert_yaxis()\n",
    "plt.show()\n",
    "plt.savefig('models.png')\n",
    "\n",
    "\n",
    "\n",
    "\n",
    "\n",
    "\n",
    "\n"
   ]
  },
  {
   "cell_type": "code",
   "execution_count": null,
   "metadata": {},
   "outputs": [],
   "source": []
  }
 ],
 "metadata": {
  "kernelspec": {
   "display_name": "Python 3",
   "language": "python",
   "name": "python3"
  },
  "language_info": {
   "codemirror_mode": {
    "name": "ipython",
    "version": 3
   },
   "file_extension": ".py",
   "mimetype": "text/x-python",
   "name": "python",
   "nbconvert_exporter": "python",
   "pygments_lexer": "ipython3",
   "version": "3.7.4"
  }
 },
 "nbformat": 4,
 "nbformat_minor": 2
}
